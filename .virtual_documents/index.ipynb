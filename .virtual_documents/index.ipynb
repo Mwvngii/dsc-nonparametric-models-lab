








# Run this cell without changes
import pandas as pd

df = pd.read_csv('data/forest_cover.csv')
df





# Run this cell without changes
print("Raw Counts")
print(df["Cover_Type"].value_counts())
print()
print("Percentages")
print(df["Cover_Type"].value_counts(normalize=True))














# Your code here
from sklearn.model_selection import train_test_split
from sklearn.preprocessing import StandardScaler

# Splitting data: Feature and Target
X = df.drop(columns=['Cover_Type'])
y = df['Cover_Type']


# Train Test Split
X_train, X_test, y_train, y_test = train_test_split(X, y, random_state=42, stratify=y, test_size=0.25)





# Your code here
scaler = StandardScaler()
X_train_scaled = scaler.fit_transform(X_train)
X_test_scaled = scaler.transform(X_test)





# Run this cell without changes

# Checking that df was separated into correct X and y
assert type(X) == pd.DataFrame and X.shape == (38501, 52)
assert type(y) == pd.Series and y.shape == (38501,)

# Checking the train-test split
assert type(X_train) == pd.DataFrame and X_train.shape == (28875, 52)
assert type(X_test) == pd.DataFrame and X_test.shape == (9626, 52)
assert type(y_train) == pd.Series and y_train.shape == (28875,)
assert type(y_test) == pd.Series and y_test.shape == (9626,)

# Checking the scaling
assert X_train_scaled.shape == X_train.shape
assert round(X_train_scaled[0][0], 3) == -0.636
assert X_test_scaled.shape == X_test.shape
assert round(X_test_scaled[0][0], 3) == -1.370





# Replace None with appropriate code

# Relevant imports
from sklearn.model_selection import cross_val_score
from sklearn.neighbors import KNeighborsClassifier
from sklearn.metrics import log_loss

# Creating the model
knn_baseline_model = KNeighborsClassifier()

# Perform cross-validation
knn_baseline_log_loss = cross_val_score(knn_baseline_model, X_train_scaled, y_train, scoring="neg_log_loss", cv=5).mean()

knn_baseline_log_loss





# Replace None with appropriate text
"""
None
"""





# Your code here (add more cells as needed)



# Your code here (add more cells as needed)


# Your code here (add more cells as needed)





# Your code here





# Replace None with appropriate text
"""
None
"""





# Your code here (add more cells as needed)


# Your code here (add more cells as needed)


# Your code here (add more cells as needed)





# Replace None with appropriate code
final_model = None

# Fit the model on the full training data
# (scaled or unscaled depending on the model)
None





# Replace None with appropriate code
from sklearn.metrics import accuracy_score, precision_score, recall_score

preds = final_model.predict(None)
probs = final_model.predict_proba(None)

print("log loss: ", log_loss(y_test, probs))
print("accuracy: ", accuracy_score(y_test, preds))
print("precision:", precision_score(y_test, preds))
print("recall:   ", recall_score(y_test, preds))





# Replace None with appropriate text
"""
None
"""



